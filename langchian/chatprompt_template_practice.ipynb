{
 "cells": [
  {
   "cell_type": "code",
   "execution_count": 1,
   "id": "e3d8b811",
   "metadata": {},
   "outputs": [
    {
     "name": "stderr",
     "output_type": "stream",
     "text": [
      "/home/bipin/Documents/genai/g25-aug/genai_25_sept/.venv/lib/python3.13/site-packages/tqdm/auto.py:21: TqdmWarning: IProgress not found. Please update jupyter and ipywidgets. See https://ipywidgets.readthedocs.io/en/stable/user_install.html\n",
      "  from .autonotebook import tqdm as notebook_tqdm\n"
     ]
    }
   ],
   "source": [
    "from langchain_openai import ChatOpenAI\n",
    "from dotenv import load_dotenv\n",
    "from langchain_core.prompts import ChatPromptTemplate\n",
    "\n",
    "\n",
    "\n",
    "load_dotenv(dotenv_path=\"/home/bipin/Documents/genai/g25-aug/genai_25_sept/.env\")\n",
    "llm=ChatOpenAI(model=\"gpt-4.1-nano\")"
   ]
  },
  {
   "cell_type": "code",
   "execution_count": 9,
   "id": "e1716e95",
   "metadata": {},
   "outputs": [],
   "source": [
    "prompt = ChatPromptTemplate.from_messages(\n",
    "    [\n",
    "        (\"system\",\"You are a helpful assistant that translates {input_language} to {output_language} also describe it in {length} words.\"),\n",
    "        (\"human\", \"transalate this: {input}\"),\n",
    "    ]\n",
    ")\n",
    "\n"
   ]
  },
  {
   "cell_type": "code",
   "execution_count": 10,
   "id": "e7cf0e9a",
   "metadata": {},
   "outputs": [
    {
     "data": {
      "text/plain": [
       "ChatPromptTemplate(input_variables=['input', 'input_language', 'length', 'output_language'], input_types={}, partial_variables={}, messages=[SystemMessagePromptTemplate(prompt=PromptTemplate(input_variables=['input_language', 'length', 'output_language'], input_types={}, partial_variables={}, template='You are a helpful assistant that translates {input_language} to {output_language} also describe it in {length} words.'), additional_kwargs={}), HumanMessagePromptTemplate(prompt=PromptTemplate(input_variables=['input'], input_types={}, partial_variables={}, template='transalate this: {input}'), additional_kwargs={})])"
      ]
     },
     "execution_count": 10,
     "metadata": {},
     "output_type": "execute_result"
    }
   ],
   "source": [
    "prompt "
   ]
  },
  {
   "cell_type": "code",
   "execution_count": 11,
   "id": "6461924f",
   "metadata": {},
   "outputs": [],
   "source": [
    "chain  = prompt | llm"
   ]
  },
  {
   "cell_type": "code",
   "execution_count": 12,
   "id": "5b830f2e",
   "metadata": {},
   "outputs": [],
   "source": [
    "output = chain.invoke({\"input_language\": \"English\",\"output_language\": \"odiya\",\"input\": \"I love programming.\",\"length\":\"200\"})"
   ]
  },
  {
   "cell_type": "code",
   "execution_count": 13,
   "id": "01f00ffd",
   "metadata": {},
   "outputs": [
    {
     "data": {
      "text/plain": [
       "'ନିମ୍ନଲିଖିତ ଓଡ଼ିଆ ଅନୁବାଦ:  \\nମୁ ଆପଣ କୋଡିଙ୍ଗ କୁ ଭଲ ପାଉଛି।\\n\\nବିବରଣୀ:  \\nମୁ ଆପଣ କମ୍ପ୍ୟୁଟର ଯଞ୍ଚନା ଓ ପ୍ରୋଗ୍ରାମିଂ ବିଷୟରେ ତାଳମେଳ ରଖିଥିବା ଅଭିଜ୍ଞତା ଅଛି। ଏହି ଉଚ୍ଚାରଣ ଅନୁସାରେ, ଯେତେବେଳେ ଆମେ କମ୍ପ୍ୟୁଟର ପ୍ରୋଗ୍ରାମିଂ କୁ ପ୍ରେମ କରିବାକୁ କୁହୁ, ସେଥିରେ ଆମର ଧୃଢ଼ ଆଗ୍ରହ ଓ ସହଯୋଗର ଅନୁଭୂତି ଅନୁରଣୀତ।  \\n\\nସାଧାରଣତଃ, ପ୍ରୋଗ୍ରାମିଂ ହେଉଛି ଦେଖିବାର ଏବଂ ଶିଖିବାର ପ୍ରକ୍ରିୟା, ଯାହାର ଉଦ୍ଦେଶ୍ୟ ହେଉଛି କମ୍ପ୍ୟୁଟର ଶିକ୍ଷା କରିବା ଓ ତାଙ୍କୁ ନିଜ ଅଭିଲାෂିତ କାର୍ଯ୍ୟ କରିବା। ପ୍ରୋଗ୍ରାମିଂ କୌଶଳ ଶିଖିଲେ, ଆପଣ ନିଜ ବିଭିନ୍ନ ସମସ୍ୟା ସମାଧାନ ଓ ନବୀନ ସୃଜନାତ୍ମକ ଅନୁସନ୍ଧାନ କରି ପାରିବେ। ଏହା ଇଣ୍ଟରନେଟ୍ ଓ ଟେକ୍ନୋଲୋଜି ମଧ୍ୟରେ ଜୀବନ କୁ ଅଧିକ ସାରସାର କରେ।  \\n \\n**English Summary:**  \\nExpressing love for programming in Odia emphasizes a passionate interest in coding, computer science, and technology. It highlights the joy of solving problems, creating new software, and innovating using various programming languages. Programming is not just a technical skill but an art that allows individuals to shape the digital world. The Odia phrase conveys the heartfelt enthusiasm for writing code and learning new problem-solving techniques. It also underscores how programming is crucial for modern life, impacting industries, education, and daily activities by enabling automation, digital communication, and technological advancements. The translation encourages learners and professionals to pursue their passion for coding and embrace the continuous evolution of the tech landscape.'"
      ]
     },
     "execution_count": 13,
     "metadata": {},
     "output_type": "execute_result"
    }
   ],
   "source": [
    "output.content"
   ]
  },
  {
   "cell_type": "code",
   "execution_count": 18,
   "id": "3a45e5c2",
   "metadata": {},
   "outputs": [],
   "source": [
    "transaction_list=\"\"\"txn_id,datetime,payer_name,payer_vpa,payee_name,payee_vpa,amount,currency,status,txn_type,utr,note,merchant_category\n",
    "TXN20250923001,2025-09-20T09:12:34+05:30,Ravi Patel,ravi.patel@icici,Anita Rao,anita.rao@axis,1250.00,INR,SUCCESS,P2P,UTR20250923001,Jan rent,P2P-RENT\n",
    "TXN20250923002,2025-09-20T11:45:10+05:30,Neha Kumar,neha.k@axis,FreshMart,freshmart@oksbi,489.50,INR,SUCCESS,P2M,UTR20250923002,Groceries,P2M-GROCERY\n",
    "TXN20250923003,2025-09-21T14:03:55+05:30,Arjun Singh,arjun.s@hdfc,Viraj Travels,virajtravels@upi,3200.00,INR,FAILED,P2M,UTR20250923003,Bus ticket,P2M-TRAVEL\n",
    "TXN20250923004,2025-09-21T15:20:05+05:30,Sneha Iyer,sneha.iyer@paytm,Samir Tech,samir.tech@icici,25999.00,INR,SUCCESS,P2M,UTR20250923004,New headphones,P2M-ELECTRONICS\n",
    "TXN20250923005,2025-09-22T08:05:42+05:30,Meera Joshi,meera.j@oksbi,Prakash Sharma,prakash.sh@axis,150.00,INR,PENDING,P2P,UTR20250923005,Split dinner,P2P-SPLIT\n",
    "TXN20250923006,2025-09-22T19:32:11+05:30,DigitalBooks,digitalbooks@upi,Arjun Singh,arjun.s@hdfc,299.00,INR,SUCCESS,P2M,UTR20250923006,Ebook purchase,P2M-BOOKS\n",
    "TXN20250923007,2025-09-23T07:50:00+05:30,Ravi Patel,ravi.patel@icici,TaxiNow,taxinow@pay,325.00,INR,SUCCESS,P2M,UTR20250923007,Airport drop,P2M-TRANSPORT\n",
    "TXN20250923008,2025-09-23T10:15:30+05:30,Neha Kumar,neha.k@axis,Charity Trust,charity.trust@upi,5000.00,INR,SUCCESS,P2P,UTR20250923008,Donation,P2P-CHARITY\n",
    "TXN20250923009,2025-09-23T12:00:00+05:30,ShopXYZ,shopxyz@axis,Sneha Iyer,sneha.iyer@paytm,799.00,INR,SUCCESS,P2M,UTR20250923009,Clothing purchase,P2M-APPAREL\n",
    "TXN20250923010,2025-09-23T13:45:20+05:30,Prakash Sharma,prakash.sh@axis,UtilityPayments,utilitypmts@sbi,1200.00,INR,SUCCESS,P2M,UTR20250923010,Electricity bill,P2M-BILLS\n",
    "\"\"\""
   ]
  },
  {
   "cell_type": "code",
   "execution_count": 15,
   "id": "7a95b049",
   "metadata": {},
   "outputs": [],
   "source": [
    "\n",
    "prompt = ChatPromptTemplate.from_messages(\n",
    "    [\n",
    "        (\"system\",\"You are expert in spend analyzr. categorize into food,grocery, travel and enterniment with how much he spendon each actegory based on  the transaction data in key value json format \"),\n",
    "        (\"human\", \" The transaction data :{transaction_data}\"),\n",
    "    ]\n",
    ")"
   ]
  },
  {
   "cell_type": "code",
   "execution_count": 16,
   "id": "61fea1f8",
   "metadata": {},
   "outputs": [],
   "source": [
    "chain = prompt | llm"
   ]
  },
  {
   "cell_type": "code",
   "execution_count": 19,
   "id": "6e6fd9b0",
   "metadata": {},
   "outputs": [],
   "source": [
    "output = chain.invoke({\"transaction_data\":transaction_list})"
   ]
  },
  {
   "cell_type": "code",
   "execution_count": 21,
   "id": "eb2247e4",
   "metadata": {},
   "outputs": [
    {
     "name": "stdout",
     "output_type": "stream",
     "text": [
      "Based on the provided transaction data, here is the categorization of total spend into Food, Grocery, Travel, and Entertainment categories along with the amounts:\n",
      "\n",
      "**Food:**\n",
      "- Split dinner: ₹150.00\n",
      "\n",
      "**Grocery:**\n",
      "- Groceries (FreshMart): ₹489.50\n",
      "\n",
      "**Travel:**\n",
      "- Bus ticket (Viraj Travels): Failed transaction, so excluded\n",
      "- Airport drop (TaxiNow): ₹325.00\n",
      "\n",
      "**Entertainment:**\n",
      "- Ebook purchase (DigitalBooks): ₹299.00\n",
      "- Clothing purchase (ShopXYZ): ₹799.00\n",
      "\n",
      "---\n",
      "\n",
      "### Summary:\n",
      "```json\n",
      "{\n",
      "  \"food\": 150.00,\n",
      "  \"grocery\": 489.50,\n",
      "  \"travel\": 325.00,\n",
      "  \"entertainment\": 1098.00\n",
      "}\n",
      "```\n",
      "\n",
      "*Note:* The failed travel transaction for the bus ticket has been excluded from the total travel spend.\n"
     ]
    }
   ],
   "source": [
    "print(output.content)"
   ]
  },
  {
   "cell_type": "code",
   "execution_count": null,
   "id": "8b02aca1",
   "metadata": {},
   "outputs": [],
   "source": []
  },
  {
   "cell_type": "code",
   "execution_count": null,
   "id": "047ae3ce",
   "metadata": {},
   "outputs": [],
   "source": []
  },
  {
   "cell_type": "code",
   "execution_count": null,
   "id": "3b14ad6a",
   "metadata": {},
   "outputs": [],
   "source": []
  },
  {
   "cell_type": "code",
   "execution_count": null,
   "id": "385633a0",
   "metadata": {},
   "outputs": [],
   "source": []
  },
  {
   "cell_type": "code",
   "execution_count": null,
   "id": "02b28c69",
   "metadata": {},
   "outputs": [],
   "source": []
  },
  {
   "cell_type": "code",
   "execution_count": null,
   "id": "67405d00",
   "metadata": {},
   "outputs": [],
   "source": [
    "chain = prompt | llm\n",
    "chain.invoke(\n",
    "    {\n",
    "        \"input_language\": \"English\",\n",
    "        \"output_language\": \"German\",\n",
    "        \"input\": \"I love programming.\",\n",
    "    }\n",
    ")"
   ]
  },
  {
   "cell_type": "code",
   "execution_count": null,
   "id": "9ae26b23",
   "metadata": {},
   "outputs": [],
   "source": []
  },
  {
   "cell_type": "code",
   "execution_count": null,
   "id": "db26152b",
   "metadata": {},
   "outputs": [],
   "source": []
  }
 ],
 "metadata": {
  "kernelspec": {
   "display_name": "genai-25-sept",
   "language": "python",
   "name": "python3"
  },
  "language_info": {
   "codemirror_mode": {
    "name": "ipython",
    "version": 3
   },
   "file_extension": ".py",
   "mimetype": "text/x-python",
   "name": "python",
   "nbconvert_exporter": "python",
   "pygments_lexer": "ipython3",
   "version": "3.13.3"
  }
 },
 "nbformat": 4,
 "nbformat_minor": 5
}
