{
 "cells": [
  {
   "cell_type": "code",
   "execution_count": 1,
   "id": "ae5d8372",
   "metadata": {},
   "outputs": [
    {
     "name": "stderr",
     "output_type": "stream",
     "text": [
      "/home/bipin/Documents/genai/g25-aug/genai_25_sept/.venv/lib/python3.13/site-packages/tqdm/auto.py:21: TqdmWarning: IProgress not found. Please update jupyter and ipywidgets. See https://ipywidgets.readthedocs.io/en/stable/user_install.html\n",
      "  from .autonotebook import tqdm as notebook_tqdm\n"
     ]
    }
   ],
   "source": [
    "from dotenv import load_dotenv\n",
    "from langchain_openai import ChatOpenAI\n",
    "from langchain_core.prompts import ChatPromptTemplate\n",
    "from langchain_core.messages import SystemMessage, HumanMessage, AIMessage\n",
    "\n"
   ]
  },
  {
   "cell_type": "code",
   "execution_count": 2,
   "id": "0bfa9af6",
   "metadata": {},
   "outputs": [
    {
     "data": {
      "text/plain": [
       "True"
      ]
     },
     "execution_count": 2,
     "metadata": {},
     "output_type": "execute_result"
    }
   ],
   "source": [
    "\n",
    "load_dotenv(dotenv_path=\"/home/bipin/Documents/genai/g25-aug/genai_25_sept/.env\")\n"
   ]
  },
  {
   "cell_type": "code",
   "execution_count": 3,
   "id": "f55c6ee8",
   "metadata": {},
   "outputs": [],
   "source": [
    "# Intialize the model\n",
    "llm=ChatOpenAI(model=\"gpt-4.1-nano\", max_completion_tokens=400)"
   ]
  },
  {
   "cell_type": "code",
   "execution_count": null,
   "id": "0b59a0ed",
   "metadata": {},
   "outputs": [],
   "source": []
  },
  {
   "cell_type": "markdown",
   "id": "94a5e6c6",
   "metadata": {},
   "source": [
    "\n",
    "### human message -input message e.g what is python\n",
    "### system message - role of llm (doctor, coder, healthcare, engineer)\n",
    "### ai message - output message (e.g the python is aprogramming language)"
   ]
  },
  {
   "cell_type": "code",
   "execution_count": null,
   "id": "dc2019c9",
   "metadata": {},
   "outputs": [],
   "source": []
  },
  {
   "cell_type": "code",
   "execution_count": null,
   "id": "cbcb0460",
   "metadata": {},
   "outputs": [],
   "source": [
    "# when you dont want to give system and ai message as a input to the llm "
   ]
  },
  {
   "cell_type": "code",
   "execution_count": 4,
   "id": "3e6523ab",
   "metadata": {},
   "outputs": [],
   "source": [
    "msg = \"what is python\""
   ]
  },
  {
   "cell_type": "code",
   "execution_count": 5,
   "id": "876156fe",
   "metadata": {},
   "outputs": [],
   "source": [
    "response = llm.invoke(msg)"
   ]
  },
  {
   "cell_type": "code",
   "execution_count": 6,
   "id": "25260853",
   "metadata": {},
   "outputs": [
    {
     "name": "stdout",
     "output_type": "stream",
     "text": [
      "Python is a high-level, interpreted programming language known for its simplicity, readability, and versatility. It was created by Guido van Rossum and was first released in 1991. Python is widely used in various domains such as web development, data analysis, artificial intelligence, scientific computing, automation, and more.\n",
      "\n",
      "Key features of Python include:\n",
      "- Easy-to-read syntax that emphasizes clarity\n",
      "- Extensive standard library and third-party modules\n",
      "- Support for multiple programming paradigms (procedural, object-oriented, functional)\n",
      "- Cross-platform compatibility, allowing code to run on Windows, macOS, and Linux\n",
      "- Large and active community that contributes to a broad ecosystem of tools and frameworks\n",
      "\n",
      "Python's intuitive design and powerful capabilities make it a popular choice for both beginners and experienced developers.\n"
     ]
    }
   ],
   "source": [
    "print(response.content)"
   ]
  },
  {
   "cell_type": "markdown",
   "id": "54ba09b3",
   "metadata": {},
   "source": [
    "#2. Where you dont want to create any variable inside a message\n",
    "# but you want system, and human message and ai message is optional"
   ]
  },
  {
   "cell_type": "code",
   "execution_count": null,
   "id": "8658eee0",
   "metadata": {},
   "outputs": [],
   "source": []
  },
  {
   "cell_type": "code",
   "execution_count": 8,
   "id": "9a446199",
   "metadata": {},
   "outputs": [],
   "source": [
    "system_msg = SystemMessage(\"You are experienced python coding specialist Answer all the query related to that only else say sorry'\")\n",
    "human_msg = HumanMessage(\"what is heart attack\")\n"
   ]
  },
  {
   "cell_type": "code",
   "execution_count": 9,
   "id": "2577359c",
   "metadata": {},
   "outputs": [],
   "source": [
    "msg =[system_msg, human_msg]"
   ]
  },
  {
   "cell_type": "code",
   "execution_count": 10,
   "id": "34c60c1c",
   "metadata": {},
   "outputs": [],
   "source": [
    "response2 = llm.invoke(msg)"
   ]
  },
  {
   "cell_type": "code",
   "execution_count": 11,
   "id": "edbe719c",
   "metadata": {},
   "outputs": [
    {
     "name": "stdout",
     "output_type": "stream",
     "text": [
      "A heart attack, also known as a myocardial infarction, occurs when blood flow to a part of the heart muscle is blocked for a prolonged period, causing damage or death to the heart tissue. This blockage is usually caused by a buildup of plaque (fat, cholesterol, and other substances) in the coronary arteries, which supply blood to the heart. Symptoms commonly include chest pain or discomfort, shortness of breath, nausea, sweating, and pain radiating to the arm, neck, or jaw. A heart attack is a medical emergency requiring immediate treatment to restore blood flow and minimize heart damage.\n"
     ]
    }
   ],
   "source": [
    "print(response2.content)"
   ]
  },
  {
   "cell_type": "code",
   "execution_count": null,
   "id": "28118a76",
   "metadata": {},
   "outputs": [],
   "source": []
  },
  {
   "cell_type": "code",
   "execution_count": null,
   "id": "8517fc21",
   "metadata": {},
   "outputs": [],
   "source": []
  },
  {
   "cell_type": "markdown",
   "id": "cdccdfd4",
   "metadata": {},
   "source": [
    "# when you want to input variable"
   ]
  },
  {
   "cell_type": "code",
   "execution_count": 13,
   "id": "bc715804",
   "metadata": {},
   "outputs": [],
   "source": [
    "message =  [('system',' You are experienced {role}. Answer all the query related to that only else say sorry'),\n",
    "            ('human', 'this is the :{query}')]\n",
    "\n",
    "\n"
   ]
  },
  {
   "cell_type": "code",
   "execution_count": 14,
   "id": "7333b803",
   "metadata": {},
   "outputs": [],
   "source": [
    "role_template = ChatPromptTemplate(message)\n"
   ]
  },
  {
   "cell_type": "code",
   "execution_count": 15,
   "id": "78228688",
   "metadata": {},
   "outputs": [],
   "source": [
    "chain = role_template |llm\n"
   ]
  },
  {
   "cell_type": "code",
   "execution_count": 16,
   "id": "f249c4de",
   "metadata": {},
   "outputs": [],
   "source": [
    "sys_role = \"python coding specialist\"\n",
    "user_uery =\"what is heart attack\"\n"
   ]
  },
  {
   "cell_type": "code",
   "execution_count": 17,
   "id": "4cf3c173",
   "metadata": {},
   "outputs": [],
   "source": [
    "response3 = chain.invoke({\"role\":sys_role,\"query\":user_uery})"
   ]
  },
  {
   "cell_type": "code",
   "execution_count": 18,
   "id": "8b4996d6",
   "metadata": {},
   "outputs": [
    {
     "name": "stdout",
     "output_type": "stream",
     "text": [
      "A heart attack, also known as a myocardial infarction, occurs when blood flow to a part of the heart muscle is blocked for an extended period, causing damage or death to the heart tissue. This blockage is often caused by a buildup of plaque (fat, cholesterol, and other substances) in the coronary arteries, which supply blood to the heart. Symptoms of a heart attack can include chest pain or discomfort, shortness of breath, nausea, and pain in other areas like the arms, neck, jaw, or back. It is a medical emergency that requires prompt treatment to restore blood flow and minimize heart damage.\n"
     ]
    }
   ],
   "source": [
    "print(response3.content)"
   ]
  },
  {
   "cell_type": "code",
   "execution_count": null,
   "id": "7a40daf5",
   "metadata": {},
   "outputs": [],
   "source": []
  },
  {
   "cell_type": "code",
   "execution_count": null,
   "id": "bf719c04",
   "metadata": {},
   "outputs": [],
   "source": []
  },
  {
   "cell_type": "code",
   "execution_count": null,
   "id": "af67050b",
   "metadata": {},
   "outputs": [],
   "source": []
  },
  {
   "cell_type": "code",
   "execution_count": null,
   "id": "ff1ab310",
   "metadata": {},
   "outputs": [],
   "source": []
  },
  {
   "cell_type": "code",
   "execution_count": null,
   "id": "5f8b8abb",
   "metadata": {},
   "outputs": [],
   "source": []
  },
  {
   "cell_type": "code",
   "execution_count": null,
   "id": "82fee85c",
   "metadata": {},
   "outputs": [],
   "source": []
  },
  {
   "cell_type": "code",
   "execution_count": null,
   "id": "6349c11b",
   "metadata": {},
   "outputs": [],
   "source": []
  },
  {
   "cell_type": "markdown",
   "id": "cf85d649",
   "metadata": {},
   "source": [
    "### 2.1 Zero-Shot Prompting\n",
    "\n",
    "**What it is**: Asking the AI to perform a task without providing any examples.\n",
    "\n",
    "**When to use**: For straightforward tasks where the AI already understands what you want."
   ]
  },
  {
   "cell_type": "code",
   "execution_count": 19,
   "id": "da6d0e97",
   "metadata": {},
   "outputs": [],
   "source": [
    "sys_msg = \"you are experince reviwe critic, based on the review tell weather the product belong to which  categories 1.good, 2.bad and 3. ok\"\n",
    "human_msg = \"These is the review :{review}\""
   ]
  },
  {
   "cell_type": "code",
   "execution_count": 20,
   "id": "dfebb454",
   "metadata": {},
   "outputs": [],
   "source": [
    "msg = [('system',sys_msg),('human',human_msg)]"
   ]
  },
  {
   "cell_type": "code",
   "execution_count": 21,
   "id": "84579524",
   "metadata": {},
   "outputs": [],
   "source": [
    "prompt_template = ChatPromptTemplate(msg)"
   ]
  },
  {
   "cell_type": "code",
   "execution_count": 22,
   "id": "fa1c6333",
   "metadata": {},
   "outputs": [
    {
     "data": {
      "text/plain": [
       "ChatPromptTemplate(input_variables=['review'], input_types={}, partial_variables={}, messages=[SystemMessagePromptTemplate(prompt=PromptTemplate(input_variables=[], input_types={}, partial_variables={}, template='you are experince reviwe critic, based on the review tell weather the product belong to which  categories 1.good, 2.bad and 3. ok'), additional_kwargs={}), HumanMessagePromptTemplate(prompt=PromptTemplate(input_variables=['review'], input_types={}, partial_variables={}, template='These is the review :{review}'), additional_kwargs={})])"
      ]
     },
     "execution_count": 22,
     "metadata": {},
     "output_type": "execute_result"
    }
   ],
   "source": [
    "prompt_template"
   ]
  },
  {
   "cell_type": "code",
   "execution_count": 25,
   "id": "67231ce3",
   "metadata": {},
   "outputs": [],
   "source": [
    "chain = prompt_template | llm"
   ]
  },
  {
   "cell_type": "code",
   "execution_count": 26,
   "id": "883d4494",
   "metadata": {},
   "outputs": [],
   "source": [
    "amz_review= \"\"\"Look wise it's a premium phone. It's just 2 days , so I can't really give good review. It has lot of AI features. Display is super cool. I like the S pen so much. Over all at the discounted price it's the best phone one can get. \"\"\""
   ]
  },
  {
   "cell_type": "code",
   "execution_count": 29,
   "id": "532a6edc",
   "metadata": {},
   "outputs": [],
   "source": [
    "amz_review =\"Beast 🫶🫶 worth buying\""
   ]
  },
  {
   "cell_type": "code",
   "execution_count": 30,
   "id": "b360d85c",
   "metadata": {},
   "outputs": [],
   "source": [
    "response = chain.invoke(amz_review)"
   ]
  },
  {
   "cell_type": "code",
   "execution_count": 31,
   "id": "68610c53",
   "metadata": {},
   "outputs": [
    {
     "name": "stdout",
     "output_type": "stream",
     "text": [
      "Based on the review \"Beast 🫶🫶 worth buying,\" the product belongs to the category: 1. good\n"
     ]
    }
   ],
   "source": [
    "print(response.content)"
   ]
  },
  {
   "cell_type": "code",
   "execution_count": null,
   "id": "5f7b197d",
   "metadata": {},
   "outputs": [],
   "source": []
  },
  {
   "cell_type": "markdown",
   "id": "342fe7cb",
   "metadata": {},
   "source": [
    "\n",
    "\n",
    "### 2.2 One-Shot Prompting\n",
    "\n",
    "**What it is**: Providing exactly one example to show the AI what you want.\n",
    "\n",
    "**When to use**: When you need to demonstrate a specific format or style."
   ]
  },
  {
   "cell_type": "code",
   "execution_count": 35,
   "id": "c0506097",
   "metadata": {},
   "outputs": [],
   "source": [
    "# One-shot example: Product description generation\n",
    "one_shot_template = ChatPromptTemplate([\n",
    "    (\"system\", \"You generate product name and  parameters for e-commerce review message\"),\n",
    "    ('human',\"I've been using the Samsung Galaxy S24 Ultra (12GB RAM | 256GB Storage) for over a month now, and it has exceeded my expectations in almost every area.\"),\n",
    "    ('ai', \"product_name:Samsung Galaxy S24 Ultra,parametrs:12GB RAM | 256GB Storage \"),\n",
    "    ('human', \"this is the e-commerce review message: {rev_msg}\" )])\n",
    "    "
   ]
  },
  {
   "cell_type": "code",
   "execution_count": 36,
   "id": "e7ae079a",
   "metadata": {},
   "outputs": [],
   "source": [
    "chain =one_shot_template | llm"
   ]
  },
  {
   "cell_type": "code",
   "execution_count": 37,
   "id": "e843292b",
   "metadata": {},
   "outputs": [
    {
     "name": "stdout",
     "output_type": "stream",
     "text": [
      "product_name:iPhone 15,parametrs:DYNAMIC ISLAND,Innovative Design,6.1\" Super Retina XDR display,48MP Main Camera with 2x Telephoto,Next-Generation Portraits,A16 Bionic Chip\n"
     ]
    }
   ],
   "source": [
    "input_msg = \"\"\"DYNAMIC ISLAND COMES TO IPHONE 15 — Dynamic Island bubbles up alerts and Live Activities — so you don’t miss them while you’re doing something else. You can see who’s calling, track your next ride, check your flight status, and so much more.\n",
    "INNOVATIVE DESIGN — iPhone 15 features a durable color-infused glass and aluminum design. It’s splash, water, and dust resistant. The Ceramic Shield front is tougher than any smartphone glass. And the 6.1\" Super Retina XDR display is up to 2x brighter in the sun compared to iPhone 14.\n",
    "48MP MAIN CAMERA WITH 2X TELEPHOTO — The 48MP Main camera shoots in super-high resolution. So it’s easier than ever to take standout photos with amazing detail. The 2x optical-quality Telephoto lets you frame the perfect close-up.\n",
    "NEXT-GENERATION PORTRAITS — Capture portraits with dramatically more detail and color. Just tap to shift the focus between subjects — even after you take the shot.\n",
    "POWERHOUSE A16 BIONIC CHIP — The superfast chip powers advanced features like computational photography, fluid Dynamic Island transitions, and Voice Isolation for phone calls. And A16 Bionic is incredibly efficient to help deliver great all-day battery life.\n",
    " \"\"\"\n",
    "response = chain.invoke(input_msg)\n",
    "print(response.content)"
   ]
  },
  {
   "cell_type": "code",
   "execution_count": null,
   "id": "b84bb011",
   "metadata": {},
   "outputs": [],
   "source": []
  },
  {
   "cell_type": "code",
   "execution_count": null,
   "id": "34e32fb3",
   "metadata": {},
   "outputs": [],
   "source": []
  },
  {
   "cell_type": "code",
   "execution_count": null,
   "id": "8ad72c52",
   "metadata": {},
   "outputs": [],
   "source": []
  },
  {
   "cell_type": "code",
   "execution_count": null,
   "id": "42e3d714",
   "metadata": {},
   "outputs": [],
   "source": []
  },
  {
   "cell_type": "code",
   "execution_count": null,
   "id": "8a909b0c",
   "metadata": {},
   "outputs": [],
   "source": []
  },
  {
   "cell_type": "code",
   "execution_count": null,
   "id": "e0a3b06d",
   "metadata": {},
   "outputs": [],
   "source": []
  },
  {
   "cell_type": "code",
   "execution_count": null,
   "id": "4b081a36",
   "metadata": {},
   "outputs": [],
   "source": []
  },
  {
   "cell_type": "code",
   "execution_count": null,
   "id": "fa997901",
   "metadata": {},
   "outputs": [],
   "source": [
    "# One-shot example: Product description generation\n",
    "one_shot_template = ChatPromptTemplate.from_messages([\n",
    "    (\"system\", \"You generate engaging product descriptions for e-commerce. Follow the example format.\"),\n",
    "    (\"human\", \"Product: Wireless Headphones\\nFeatures: Noise-cancelling, 30-hour battery, Bluetooth 5.0\"),\n",
    "    (\"ai\", \"🎧 **Premium Wireless Headphones** 🎧\\n\\n✨ Experience crystal-clear audio with advanced noise-cancelling technology\\n🔋 All-day listening with impressive 30-hour battery life\\n📱 Seamless connectivity with latest Bluetooth 5.0\\n\\nPerfect for music lovers and professionals alike!\"),\n",
    "    (\"human\", \"Product: {product}\\nFeatures: {features}\")\n",
    "])\n",
    "\n",
    "# Test the one-shot approach\n",
    "one_shot_chain = one_shot_template | llm\n",
    "response = one_shot_chain.invoke({\n",
    "    \"product\": \"Smartwatch\",\n",
    "    \"features\": \"Heart rate monitoring, GPS tracking, Water-resistant, 7-day battery\"\n",
    "})\n",
    "\n",
    "print(\"=== ONE-SHOT PRODUCT DESCRIPTION ===\")"
   ]
  },
  {
   "cell_type": "code",
   "execution_count": null,
   "id": "3122d118",
   "metadata": {},
   "outputs": [],
   "source": []
  },
  {
   "cell_type": "code",
   "execution_count": null,
   "id": "47c73b6d",
   "metadata": {},
   "outputs": [],
   "source": []
  },
  {
   "cell_type": "markdown",
   "id": "3561f178",
   "metadata": {},
   "source": [
    "### 2.4 Chain-of-Thought Prompting\n",
    "\n",
    "**What it is**: Asking the AI to think step-by-step and show its reasoning.\n",
    "\n",
    "**When to use**: For complex problems that require logical reasoning or multi-step solutions."
   ]
  },
  {
   "cell_type": "code",
   "execution_count": 38,
   "id": "9861d7d5",
   "metadata": {},
   "outputs": [],
   "source": [
    "# Chain-of-thought example: Math word problems\n",
    "cot_template = ChatPromptTemplate([\n",
    "    (\"system\", \"You solve math problems step by step. Always show your reasoning clearly.\"),\n",
    "    (\"human\", \"\"\"Let's work through this step by step.\n",
    "\n",
    "Problem: {problem}\n",
    "\n",
    "Please think through this step by step:\n",
    "1. What information do we have?\n",
    "2. What do we need to find?\n",
    "3. What steps do we need to take?\n",
    "4. Show the calculations\n",
    "5. State the final answer\n",
    "\"\"\")\n",
    "])\n",
    "\n"
   ]
  },
  {
   "cell_type": "code",
   "execution_count": 39,
   "id": "934fd450",
   "metadata": {},
   "outputs": [
    {
     "name": "stdout",
     "output_type": "stream",
     "text": [
      "=== CHAIN-OF-THOUGHT PROBLEM SOLVING ===\n",
      "Let's go through this problem step by step.\n",
      "\n",
      "**1. What information do we have?**  \n",
      "- Price of one book: $15  \n",
      "- Discount offered: 20%  \n",
      "- Minimum books for discount: 5 books or more  \n",
      "- Number of books to buy: 8\n",
      "\n",
      "**2. What do we need to find?**  \n",
      "- Total cost for 8 books considering the discount applicable\n",
      "\n",
      "**3. What steps do we need to take?**  \n",
      "- Determine if the discount applies (since buying 8 books, yes)  \n",
      "- Calculate the total price without discount  \n",
      "- Calculate the discount amount  \n",
      "- Subtract the discount from the total price to get the final cost\n",
      "\n",
      "**4. Show the calculations:**\n",
      "\n",
      "- **Total cost without discount:**  \n",
      "  \\( 8 \\text{ books} \\times \\$15 \\text{ per book} = \\$120 \\)\n",
      "\n",
      "- **Calculate the discount amount:**  \n",
      "  20% of \\$120:  \n",
      "  \\(\\$120 \\times 0.20 = \\$24\\)\n",
      "\n",
      "- **Calculate the discounted price:**  \n",
      "  \\(\\$120 - \\$24 = \\$96\\)\n",
      "\n",
      "**5. Final answer:**  \n",
      "The total cost to buy 8 books with a 20% discount is **\\$96**.\n"
     ]
    }
   ],
   "source": [
    "\n",
    "# Test with a word problem\n",
    "math_problem = \"A store sells books for $15 each. If they offer a 20% discount for buying 5 or more books, how much would it cost to buy 8 books?\"\n",
    "\n",
    "cot_chain = cot_template | llm\n",
    "response = cot_chain.invoke({\"problem\": math_problem})\n",
    "\n",
    "print(\"=== CHAIN-OF-THOUGHT PROBLEM SOLVING ===\")\n",
    "print(response.content)"
   ]
  },
  {
   "cell_type": "code",
   "execution_count": null,
   "id": "aa2aace2",
   "metadata": {},
   "outputs": [],
   "source": []
  },
  {
   "cell_type": "code",
   "execution_count": null,
   "id": "6cbcab54",
   "metadata": {},
   "outputs": [],
   "source": []
  },
  {
   "cell_type": "code",
   "execution_count": null,
   "id": "df6526f7",
   "metadata": {},
   "outputs": [],
   "source": []
  },
  {
   "cell_type": "markdown",
   "id": "4bb3aeaf",
   "metadata": {},
   "source": []
  },
  {
   "cell_type": "code",
   "execution_count": null,
   "id": "e2bc9bd1",
   "metadata": {},
   "outputs": [],
   "source": [
    "# Zero-shot example: Sentiment analysis\n",
    "zero_shot_template = ChatPromptTemplate([\n",
    "    (\"system\", \"You are a sentiment analyzer. Classify the sentiment of the given text as POSITIVE, NEGATIVE, or NEUTRAL.\"),\n",
    "    (\"human\", \"Text: {text}\\n\\nSentiment:\")\n",
    "])\n",
    "\n",
    "# Test with different texts\n",
    "test_texts = [\n",
    "    \"I absolutely love this new restaurant! The food is amazing.\",\n",
    "    \"The weather today is okay, nothing special.\",\n",
    "    \"I hate waiting in long lines. This is frustrating.\"\n",
    "]\n"
   ]
  }
 ],
 "metadata": {
  "kernelspec": {
   "display_name": "genai-25-sept",
   "language": "python",
   "name": "python3"
  },
  "language_info": {
   "codemirror_mode": {
    "name": "ipython",
    "version": 3
   },
   "file_extension": ".py",
   "mimetype": "text/x-python",
   "name": "python",
   "nbconvert_exporter": "python",
   "pygments_lexer": "ipython3",
   "version": "3.13.3"
  }
 },
 "nbformat": 4,
 "nbformat_minor": 5
}
