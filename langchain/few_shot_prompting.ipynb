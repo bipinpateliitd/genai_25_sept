{
 "cells": [
  {
   "cell_type": "code",
   "execution_count": null,
   "id": "80d8bae2",
   "metadata": {},
   "outputs": [],
   "source": [
    "from dotenv import load_dotenv\n",
    "from langchain_openai import ChatOpenAI\n",
    "from langchain_core.prompts import ChatPromptTemplate\n",
    "from langchain_core.messages import SystemMessage, HumanMessage, AIMessage\n",
    "\n",
    "load_dotenv(dotenv_path=\"/home/bipin/Documents/genai/g25-aug/genai_25_sept/.env\")\n",
    "# Intialize the model\n",
    "llm=ChatOpenAI(model=\"gpt-4.1-nano\", max_completion_tokens=400)"
   ]
  },
  {
   "cell_type": "markdown",
   "id": "2345bb58",
   "metadata": {},
   "source": [
    "### 2.2 One-Shot Prompting\n",
    "\n",
    "**What it is**: Providing exactly one example to show the AI what you want.\n",
    "\n",
    "**When to use**: When you need to demonstrate a specific format or style."
   ]
  },
  {
   "cell_type": "code",
   "execution_count": null,
   "id": "ef0f0981",
   "metadata": {},
   "outputs": [],
   "source": [
    "# One-shot example: Product description generation\n",
    "one_shot_template = ChatPromptTemplate.from_messages([\n",
    "    (\"system\", \"You generate engaging product descriptions for e-commerce. Follow the example format.\"),\n",
    "    (\"human\", \"Product: Wireless Headphones\\nFeatures: Noise-cancelling, 30-hour battery, Bluetooth 5.0\"),\n",
    "    (\"ai\", \"🎧 **Premium Wireless Headphones** 🎧\\n\\n✨ Experience crystal-clear audio with advanced noise-cancelling technology\\n🔋 All-day listening with impressive 30-hour battery life\\n📱 Seamless connectivity with latest Bluetooth 5.0\\n\\nPerfect for music lovers and professionals alike!\"),\n",
    "    (\"human\", \"Product: {product}\\nFeatures: {features}\")\n",
    "])\n",
    "\n",
    "# Test the one-shot approach\n",
    "one_shot_chain = one_shot_template | llm\n",
    "response = one_shot_chain.invoke({\n",
    "    \"product\": \"Smartwatch\",\n",
    "    \"features\": \"Heart rate monitoring, GPS tracking, Water-resistant, 7-day battery\"\n",
    "})\n",
    "\n",
    "print(\"=== ONE-SHOT PRODUCT DESCRIPTION ===\")"
   ]
  },
  {
   "cell_type": "markdown",
   "id": "102e62a7",
   "metadata": {},
   "source": [
    "### 2.3 Few-Shot Prompting\n",
    "\n",
    "**What it is**: Providing multiple examples to help the AI learn a pattern.\n",
    "\n",
    "**When to use**: For complex tasks where you need consistent formatting or when the task isn't obvious."
   ]
  },
  {
   "cell_type": "code",
   "execution_count": null,
   "id": "b3ee8ce9",
   "metadata": {},
   "outputs": [],
   "source": [
    "# Few-shot example: Email categorization\n",
    "examples = [\n",
    "    {\n",
    "        \"email\": \"Your order #12345 has been shipped and will arrive tomorrow.\",\n",
    "        \"category\": \"ORDER_UPDATE\"\n",
    "    },\n",
    "    {\n",
    "        \"email\": \"Don't miss our 50% off sale this weekend only!\",\n",
    "        \"category\": \"PROMOTION\"\n",
    "    },\n",
    "    {\n",
    "        \"email\": \"We're sorry to hear about your recent experience. Please reply with details.\",\n",
    "        \"category\": \"CUSTOMER_SERVICE\"\n",
    "    }\n",
    "]\n",
    "\n",
    "# Create few-shot template\n",
    "example_prompt = ChatPromptTemplate.from_messages([\n",
    "    (\"human\", \"Email: {email}\"),\n",
    "    (\"ai\", \"Category: {category}\")\n",
    "])\n",
    "\n",
    "few_shot_prompt = FewShotChatMessagePromptTemplate(\n",
    "    example_prompt=example_prompt,\n",
    "    examples=examples\n",
    ")\n",
    "\n",
    "final_prompt = ChatPromptTemplate.from_messages([\n",
    "    (\"system\", \"You categorize emails into: ORDER_UPDATE, PROMOTION, CUSTOMER_SERVICE, or OTHER\"),\n",
    "    few_shot_prompt,\n",
    "    (\"human\", \"Email: {email}\")\n",
    "])\n",
    "\n",
    "# Test few-shot learning\n",
    "few_shot_chain = final_prompt | llm\n",
    "test_email = \"Thank you for your feedback! We've updated our privacy policy.\"\n",
    "\n",
    "response = few_shot_chain.invoke({\"email\": test_email})\n",
    "\n",
    "print(\"=== FEW-SHOT EMAIL CATEGORIZATION ===\")\n",
    "print(f\"Test Email: '{test_email}'\")\n",
    "print(f\"Result: {response.content}\")"
   ]
  },
  {
   "cell_type": "markdown",
   "id": "beab974f",
   "metadata": {},
   "source": [
    "### 2.4 Chain-of-Thought Prompting\n",
    "\n",
    "**What it is**: Asking the AI to think step-by-step and show its reasoning.\n",
    "\n",
    "**When to use**: For complex problems that require logical reasoning or multi-step solutions."
   ]
  },
  {
   "cell_type": "code",
   "execution_count": null,
   "id": "39e9779d",
   "metadata": {},
   "outputs": [
    {
     "ename": "NameError",
     "evalue": "name 'ChatPromptTemplate' is not defined",
     "output_type": "error",
     "traceback": [
      "\u001b[31m---------------------------------------------------------------------------\u001b[39m",
      "\u001b[31mNameError\u001b[39m                                 Traceback (most recent call last)",
      "\u001b[36mCell\u001b[39m\u001b[36m \u001b[39m\u001b[32mIn[1]\u001b[39m\u001b[32m, line 2\u001b[39m\n\u001b[32m      1\u001b[39m \u001b[38;5;66;03m# Chain-of-thought example: Math word problems\u001b[39;00m\n\u001b[32m----> \u001b[39m\u001b[32m2\u001b[39m cot_template = \u001b[43mChatPromptTemplate\u001b[49m([\n\u001b[32m      3\u001b[39m     (\u001b[33m\"\u001b[39m\u001b[33msystem\u001b[39m\u001b[33m\"\u001b[39m, \u001b[33m\"\u001b[39m\u001b[33mYou solve math problems step by step. Always show your reasoning clearly.\u001b[39m\u001b[33m\"\u001b[39m),\n\u001b[32m      4\u001b[39m     (\u001b[33m\"\u001b[39m\u001b[33mhuman\u001b[39m\u001b[33m\"\u001b[39m, \u001b[33m\"\"\"\u001b[39m\u001b[33mLet\u001b[39m\u001b[33m'\u001b[39m\u001b[33ms work through this step by step.\u001b[39m\n\u001b[32m      5\u001b[39m \n\u001b[32m      6\u001b[39m \u001b[33mProblem: \u001b[39m\u001b[38;5;132;01m{problem}\u001b[39;00m\n\u001b[32m      7\u001b[39m \n\u001b[32m      8\u001b[39m \u001b[33mPlease think through this step by step:\u001b[39m\n\u001b[32m      9\u001b[39m \u001b[33m1. What information do we have?\u001b[39m\n\u001b[32m     10\u001b[39m \u001b[33m2. What do we need to find?\u001b[39m\n\u001b[32m     11\u001b[39m \u001b[33m3. What steps do we need to take?\u001b[39m\n\u001b[32m     12\u001b[39m \u001b[33m4. Show the calculations\u001b[39m\n\u001b[32m     13\u001b[39m \u001b[33m5. State the final answer\u001b[39m\n\u001b[32m     14\u001b[39m \u001b[33m\"\"\"\u001b[39m)\n\u001b[32m     15\u001b[39m ])\n",
      "\u001b[31mNameError\u001b[39m: name 'ChatPromptTemplate' is not defined"
     ]
    }
   ],
   "source": [
    "# Chain-of-thought example: Math word problems\n",
    "cot_template = ChatPromptTemplate([\n",
    "    (\"system\", \"You solve math problems step by step. Always show your reasoning clearly.\"),\n",
    "    (\"human\", \"\"\"Let's work through this step by step.\n",
    "\n",
    "Problem: {problem}\n",
    "\n",
    "Please think through this step by step:\n",
    "1. What information do we have?\n",
    "2. What do we need to find?\n",
    "3. What steps do we need to take?\n",
    "4. Show the calculations\n",
    "5. State the final answer\n",
    "\"\"\")\n",
    "])\n",
    "\n",
    "# Test with a word problem\n",
    "math_problem = \"A store sells books for $15 each. If they offer a 20% discount for buying 5 or more books, how much would it cost to buy 8 books?\"\n",
    "\n",
    "cot_chain = cot_template | llm\n",
    "response = cot_chain.invoke({\"problem\": math_problem})\n",
    "\n",
    "print(\"=== CHAIN-OF-THOUGHT PROBLEM SOLVING ===\")\n",
    "print(response.content)\n",
    "\n"
   ]
  },
  {
   "cell_type": "code",
   "execution_count": null,
   "id": "5da748ff",
   "metadata": {},
   "outputs": [],
   "source": []
  }
 ],
 "metadata": {
  "kernelspec": {
   "display_name": "genai-25-sept",
   "language": "python",
   "name": "python3"
  },
  "language_info": {
   "codemirror_mode": {
    "name": "ipython",
    "version": 3
   },
   "file_extension": ".py",
   "mimetype": "text/x-python",
   "name": "python",
   "nbconvert_exporter": "python",
   "pygments_lexer": "ipython3",
   "version": "3.13.3"
  }
 },
 "nbformat": 4,
 "nbformat_minor": 5
}
