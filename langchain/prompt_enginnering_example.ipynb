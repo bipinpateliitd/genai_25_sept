{
 "cells": [
  {
   "cell_type": "code",
   "execution_count": null,
   "id": "f5f0101a",
   "metadata": {},
   "outputs": [],
   "source": []
  },
  {
   "cell_type": "code",
   "execution_count": null,
   "id": "211e0198",
   "metadata": {},
   "outputs": [],
   "source": []
  },
  {
   "cell_type": "code",
   "execution_count": null,
   "id": "5125eaaa",
   "metadata": {},
   "outputs": [],
   "source": []
  },
  {
   "cell_type": "code",
   "execution_count": null,
   "id": "20026df6",
   "metadata": {},
   "outputs": [],
   "source": [
    "\n",
    "\n",
    "# Dummy Indian names and transaction data for illustration\n",
    "dummy_data = {\n",
    "    \"customer_name\": \"Ravi Kumar\",\n",
    "    \"transaction_amount\": \"₹50,000\",\n",
    "    \"transaction_type\": \"credit\",\n",
    "    \"account_balance\": \"₹2,00,000\"\n",
    "}\n",
    "\n",
    "\n"
   ]
  },
  {
   "cell_type": "code",
   "execution_count": null,
   "id": "5d640e93",
   "metadata": {},
   "outputs": [],
   "source": [
    "zero_shot_prompt = PromptTemplate(\n",
    "    input_variables=[\"customer_name\", \"transaction_type\", \"transaction_amount\"],\n",
    "    template=\"Generate a transaction summary for {customer_name} who made a {transaction_type} of {transaction_amount}.\"\n",
    ")\n",
    "\n",
    "zero_shot_chain = LLMChain(llm=llm, prompt=zero_shot_prompt)\n",
    "output = zero_shot_chain.run({\n",
    "    \"customer_name\": dummy_data[\"customer_name\"],\n",
    "    \"transaction_type\": dummy_data[\"transaction_type\"],\n",
    "    \"transaction_amount\": dummy_data[\"transaction_amount\"]\n",
    "})\n",
    "\n",
    "print(output)\n"
   ]
  },
  {
   "cell_type": "code",
   "execution_count": null,
   "id": "993b3e5b",
   "metadata": {},
   "outputs": [],
   "source": [
    "# cot"
   ]
  },
  {
   "cell_type": "code",
   "execution_count": null,
   "id": "be902a66",
   "metadata": {},
   "outputs": [],
   "source": [
    "\n"
   ]
  },
  {
   "cell_type": "code",
   "execution_count": null,
   "id": "bf647fa1",
   "metadata": {},
   "outputs": [],
   "source": [
    "few_shot_template = \"\"\"\n",
    "Summarize the financial transaction based on the examples below:\n",
    "\n",
    "Example 1:\n",
    "Customer: Priya Sharma\n",
    "Transaction: debit of ₹10,000\n",
    "Summary: Priya Sharma made a debit transaction of ₹10,000.\n",
    "\n",
    "Example 2:\n",
    "Customer: Arjun Singh\n",
    "Transaction: credit of ₹20,000\n",
    "Summary: Arjun Singh made a credit transaction of ₹20,000.\n",
    "\n",
    "Now summarize the following:\n",
    "Customer: {customer_name}\n",
    "Transaction: {transaction_type} of {transaction_amount}\n",
    "Summary:\"\"\"\n",
    "\n",
    "few_shot_prompt = PromptTemplate(\n",
    "    input_variables=[\"customer_name\", \"transaction_type\", \"transaction_amount\"],\n",
    "    template=few_shot_template\n",
    ")\n",
    "\n",
    "few_shot_chain = LLMChain(llm=llm, prompt=few_shot_prompt)\n",
    "output = few_shot_chain.run({\n",
    "    \"customer_name\": dummy_data[\"customer_name\"],\n",
    "    \"transaction_type\": dummy_data[\"transaction_type\"],\n",
    "    \"transaction_amount\": dummy_data[\"transaction_amount\"]\n",
    "})\n",
    "\n",
    "print(output)\n"
   ]
  },
  {
   "cell_type": "code",
   "execution_count": null,
   "id": "c5d5e73d",
   "metadata": {},
   "outputs": [],
   "source": []
  },
  {
   "cell_type": "code",
   "execution_count": null,
   "id": "5156f511",
   "metadata": {},
   "outputs": [],
   "source": [
    "cot_template = \"\"\"\n",
    "You are an assistant that explains transactions step-by-step:\n",
    "1. Identify customer name.\n",
    "2. Identify transaction type and amount.\n",
    "3. Summarize final transaction.\n",
    "\n",
    "Input:\n",
    "Customer: {customer_name}\n",
    "Transaction: {transaction_type} of {transaction_amount}\n",
    "\n",
    "Explanation:\"\"\"\n",
    "\n",
    "cot_prompt = PromptTemplate(\n",
    "    input_variables=[\"customer_name\", \"transaction_type\", \"transaction_amount\"],\n",
    "    template=cot_template\n",
    ")\n",
    "\n",
    "cot_chain = LLMChain(llm=llm, prompt=cot_prompt)\n",
    "output = cot_chain.run({\n",
    "    \"customer_name\": dummy_data[\"customer_name\"],\n",
    "    \"transaction_type\": dummy_data[\"transaction_type\"],\n",
    "    \"transaction_amount\": dummy_data[\"transaction_amount\"]\n",
    "})\n",
    "\n",
    "print(output)"
   ]
  },
  {
   "cell_type": "code",
   "execution_count": null,
   "id": "1b22c193",
   "metadata": {},
   "outputs": [],
   "source": []
  },
  {
   "cell_type": "code",
   "execution_count": null,
   "id": "ddde3c49",
   "metadata": {},
   "outputs": [],
   "source": [
    "# Initial Summary\n",
    "initial_prompt = PromptTemplate(\n",
    "    input_variables=[\"customer_name\", \"transaction_type\", \"transaction_amount\"],\n",
    "    template=\"Write a brief transaction summary for {customer_name} who did a {transaction_type} of {transaction_amount}.\"\n",
    ")\n",
    "\n",
    "initial_chain = LLMChain(llm=llm, prompt=initial_prompt)\n",
    "initial_output = initial_chain.run({\n",
    "    \"customer_name\": dummy_data[\"customer_name\"],\n",
    "    \"transaction_type\": dummy_data[\"transaction_type\"],\n",
    "    \"transaction_amount\": dummy_data[\"transaction_amount\"]\n",
    "})\n",
    "\n",
    "# Refinement Prompt: model reviews and improves initial output\n",
    "refine_prompt = PromptTemplate(\n",
    "    input_variables=[\"initial_output\"],\n",
    "    template=\"Review the following transaction summary and improve clarity and correctness:\\n{initial_output}\\nImproved summary:\"\n",
    ")\n",
    "\n",
    "refine_chain = LLMChain(llm=llm, prompt=refine_prompt)\n",
    "refined_output = refine_chain.run({\"initial_output\": initial_output})\n",
    "\n",
    "print(refined_output)\n"
   ]
  }
 ],
 "metadata": {
  "language_info": {
   "name": "python"
  }
 },
 "nbformat": 4,
 "nbformat_minor": 5
}
