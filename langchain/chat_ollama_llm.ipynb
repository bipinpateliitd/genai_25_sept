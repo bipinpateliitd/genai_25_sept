{
 "cells": [
  {
   "cell_type": "code",
   "execution_count": 1,
   "id": "e8f388bf",
   "metadata": {},
   "outputs": [
    {
     "name": "stderr",
     "output_type": "stream",
     "text": [
      "/home/bipin/Documents/genai/g25-aug/genai_25_sept/.venv/lib/python3.13/site-packages/tqdm/auto.py:21: TqdmWarning: IProgress not found. Please update jupyter and ipywidgets. See https://ipywidgets.readthedocs.io/en/stable/user_install.html\n",
      "  from .autonotebook import tqdm as notebook_tqdm\n"
     ]
    }
   ],
   "source": [
    "from langchain_ollama.chat_models import ChatOllama"
   ]
  },
  {
   "cell_type": "code",
   "execution_count": 2,
   "id": "af073b22",
   "metadata": {},
   "outputs": [
    {
     "name": "stdout",
     "output_type": "stream",
     "text": [
      "NAME                                   ID              SIZE      MODIFIED     \n",
      "llama3.2:1b                            baf6a787fdff    1.3 GB    4 days ago      \n",
      "qwen2.5vl:3b                           fb90415cde1e    3.2 GB    4 weeks ago     \n",
      "Jadio/Qwen3_4b_instruct_q4km:latest    7ce156643fef    2.5 GB    4 weeks ago     \n",
      "gemma3:4b                              a2af6cc3eb7f    3.3 GB    4 weeks ago     \n",
      "gemma3:270m                            e7d36fb2c3b3    291 MB    5 weeks ago     \n",
      "gemma3:1b                              8648f39daa8f    815 MB    5 weeks ago     \n",
      "qwen3:0.6b                             7df6b6e09427    522 MB    5 weeks ago     \n",
      "deepseek-r1:1.5b                       e0979632db5a    1.1 GB    2 months ago    \n",
      "qwen3:4b                               2bfd38a7daaf    2.6 GB    2 months ago    \n",
      "qwen3:8b                               500a1f067a9f    5.2 GB    2 months ago    \n",
      "gemma3n:e2b                            719372f8c7de    5.6 GB    2 months ago    \n",
      "gemma3n:e4b                            15cb39fd9394    7.5 GB    2 months ago    \n",
      "qwen3:1.7b                             458ce03a2187    1.4 GB    4 months ago    \n",
      "phi4-mini:latest                       78fad5d182a7    2.5 GB    4 months ago    \n",
      "nomic-embed-text:latest                0a109f422b47    274 MB    5 months ago    \n"
     ]
    }
   ],
   "source": [
    "!ollama list"
   ]
  },
  {
   "cell_type": "code",
   "execution_count": 4,
   "id": "e606d0fe",
   "metadata": {},
   "outputs": [],
   "source": [
    "llm = ChatOllama(model=\"gemma3:1b\")"
   ]
  },
  {
   "cell_type": "code",
   "execution_count": 5,
   "id": "b3173e94",
   "metadata": {},
   "outputs": [],
   "source": [
    "output = llm.invoke(\"What is the capital of France\")"
   ]
  },
  {
   "cell_type": "code",
   "execution_count": 6,
   "id": "1ec3359b",
   "metadata": {},
   "outputs": [
    {
     "data": {
      "text/plain": [
       "AIMessage(content='The capital of France is **Paris**. \\n\\nIt’s a very common misconception that it’s Lyon, but Paris is the official capital. 😊', additional_kwargs={}, response_metadata={'model': 'gemma3:1b', 'created_at': '2025-09-22T03:16:42.037111146Z', 'done': True, 'done_reason': 'stop', 'total_duration': 13827459753, 'load_duration': 11731557095, 'prompt_eval_count': 15, 'prompt_eval_duration': 202854337, 'eval_count': 32, 'eval_duration': 1891015470, 'model_name': 'gemma3:1b'}, id='run--ee50e3e3-ecd0-4f7c-9a84-0d8c49e72994-0', usage_metadata={'input_tokens': 15, 'output_tokens': 32, 'total_tokens': 47})"
      ]
     },
     "execution_count": 6,
     "metadata": {},
     "output_type": "execute_result"
    }
   ],
   "source": [
    "output"
   ]
  },
  {
   "cell_type": "code",
   "execution_count": 7,
   "id": "104b78ef",
   "metadata": {},
   "outputs": [
    {
     "name": "stdout",
     "output_type": "stream",
     "text": [
      "The capital of France is **Paris**. \n",
      "\n",
      "It’s a very common misconception that it’s Lyon, but Paris is the official capital. 😊\n"
     ]
    }
   ],
   "source": [
    "print(output.content)"
   ]
  },
  {
   "cell_type": "code",
   "execution_count": 8,
   "id": "e3daa153",
   "metadata": {},
   "outputs": [
    {
     "data": {
      "text/plain": [
       "{'model': 'gemma3:1b',\n",
       " 'created_at': '2025-09-22T03:16:42.037111146Z',\n",
       " 'done': True,\n",
       " 'done_reason': 'stop',\n",
       " 'total_duration': 13827459753,\n",
       " 'load_duration': 11731557095,\n",
       " 'prompt_eval_count': 15,\n",
       " 'prompt_eval_duration': 202854337,\n",
       " 'eval_count': 32,\n",
       " 'eval_duration': 1891015470,\n",
       " 'model_name': 'gemma3:1b'}"
      ]
     },
     "execution_count": 8,
     "metadata": {},
     "output_type": "execute_result"
    }
   ],
   "source": [
    "output.response_metadata"
   ]
  },
  {
   "cell_type": "code",
   "execution_count": 9,
   "id": "91d017d6",
   "metadata": {},
   "outputs": [
    {
     "data": {
      "text/plain": [
       "{'input_tokens': 15, 'output_tokens': 32, 'total_tokens': 47}"
      ]
     },
     "execution_count": 9,
     "metadata": {},
     "output_type": "execute_result"
    }
   ],
   "source": [
    "output.usage_metadata"
   ]
  },
  {
   "cell_type": "code",
   "execution_count": null,
   "id": "fb26efcc",
   "metadata": {},
   "outputs": [],
   "source": []
  }
 ],
 "metadata": {
  "kernelspec": {
   "display_name": "genai-25-sept",
   "language": "python",
   "name": "python3"
  },
  "language_info": {
   "codemirror_mode": {
    "name": "ipython",
    "version": 3
   },
   "file_extension": ".py",
   "mimetype": "text/x-python",
   "name": "python",
   "nbconvert_exporter": "python",
   "pygments_lexer": "ipython3",
   "version": "3.13.3"
  }
 },
 "nbformat": 4,
 "nbformat_minor": 5
}
