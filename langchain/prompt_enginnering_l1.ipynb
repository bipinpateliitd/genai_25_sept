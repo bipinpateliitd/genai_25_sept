{
 "cells": [
  {
   "cell_type": "code",
   "execution_count": 6,
   "id": "e0559a93",
   "metadata": {},
   "outputs": [],
   "source": [
    "from dotenv import load_dotenv\n",
    "from langchain_openai import ChatOpenAI\n",
    "from langchain_core.prompts import ChatPromptTemplate\n",
    "\n",
    "# 1.  import libraries that are required to run the below program "
   ]
  },
  {
   "cell_type": "code",
   "execution_count": 7,
   "id": "e01c8e1d",
   "metadata": {},
   "outputs": [
    {
     "data": {
      "text/plain": [
       "True"
      ]
     },
     "execution_count": 7,
     "metadata": {},
     "output_type": "execute_result"
    }
   ],
   "source": [
    "# this is to load the api key if its give True it means -sucessful if its FALSE then unsucessful\n",
    "\n",
    "load_dotenv(dotenv_path=\"/home/bipin/Documents/genai/g25-aug/genai_25_sept/.env\")\n"
   ]
  },
  {
   "cell_type": "code",
   "execution_count": 41,
   "id": "c50325f3",
   "metadata": {},
   "outputs": [],
   "source": [
    "# Intialize the model\n",
    "llm=ChatOpenAI(model=\"gpt-4.1-nano\", max_completion_tokens=400)"
   ]
  },
  {
   "cell_type": "markdown",
   "id": "a3b29515",
   "metadata": {},
   "source": []
  },
  {
   "cell_type": "code",
   "execution_count": null,
   "id": "e3d0ce7d",
   "metadata": {},
   "outputs": [],
   "source": [
    "output = llm.invoke(\"why the earth is flat?\")"
   ]
  },
  {
   "cell_type": "code",
   "execution_count": 10,
   "id": "971c79f1",
   "metadata": {},
   "outputs": [
    {
     "data": {
      "text/plain": [
       "AIMessage(content=\"The scientific consensus is that the Earth is not flat but an oblate spheroid—meaning it is mostly spherical but slightly flattened at the poles and slightly bulging at the equator. This understanding is supported by extensive evidence from various fields such as astronomy, physics, geology, and satellite imagery. \\n\\nThe idea that the Earth is flat is a misconception that has been widely debunked. Historically, observations like the horizon's curvature, the shape of the Earth's shadow during a lunar eclipse, and the way ships disappear hull-first over the horizon all support a round Earth. Modern satellite images clearly show the Earth's round shape.\\n\\nIf you're curious about any specific claims or theories related to a flat Earth, I can help explain the evidence that supports the spherical model.\", additional_kwargs={'refusal': None}, response_metadata={'token_usage': {'completion_tokens': 151, 'prompt_tokens': 13, 'total_tokens': 164, 'completion_tokens_details': {'accepted_prediction_tokens': 0, 'audio_tokens': 0, 'reasoning_tokens': 0, 'rejected_prediction_tokens': 0}, 'prompt_tokens_details': {'audio_tokens': 0, 'cached_tokens': 0}}, 'model_name': 'gpt-4.1-nano-2025-04-14', 'system_fingerprint': 'fp_7c233bf9d1', 'id': 'chatcmpl-CJsSzrVHQscHddqqb6zlExbl3MuVf', 'service_tier': 'default', 'finish_reason': 'stop', 'logprobs': None}, id='run--a05eecd0-4d3c-4f36-825f-f8800769aaf3-0', usage_metadata={'input_tokens': 13, 'output_tokens': 151, 'total_tokens': 164, 'input_token_details': {'audio': 0, 'cache_read': 0}, 'output_token_details': {'audio': 0, 'reasoning': 0}})"
      ]
     },
     "execution_count": 10,
     "metadata": {},
     "output_type": "execute_result"
    }
   ],
   "source": [
    "output"
   ]
  },
  {
   "cell_type": "code",
   "execution_count": 12,
   "id": "05e4cd2b",
   "metadata": {},
   "outputs": [
    {
     "name": "stdout",
     "output_type": "stream",
     "text": [
      "The scientific consensus is that the Earth is not flat but an oblate spheroid—meaning it is mostly spherical but slightly flattened at the poles and slightly bulging at the equator. This understanding is supported by extensive evidence from various fields such as astronomy, physics, geology, and satellite imagery. \n",
      "\n",
      "The idea that the Earth is flat is a misconception that has been widely debunked. Historically, observations like the horizon's curvature, the shape of the Earth's shadow during a lunar eclipse, and the way ships disappear hull-first over the horizon all support a round Earth. Modern satellite images clearly show the Earth's round shape.\n",
      "\n",
      "If you're curious about any specific claims or theories related to a flat Earth, I can help explain the evidence that supports the spherical model.\n"
     ]
    }
   ],
   "source": [
    "print(output.content)"
   ]
  },
  {
   "cell_type": "code",
   "execution_count": 13,
   "id": "99fedebc",
   "metadata": {},
   "outputs": [
    {
     "data": {
      "text/plain": [
       "{'token_usage': {'completion_tokens': 151,\n",
       "  'prompt_tokens': 13,\n",
       "  'total_tokens': 164,\n",
       "  'completion_tokens_details': {'accepted_prediction_tokens': 0,\n",
       "   'audio_tokens': 0,\n",
       "   'reasoning_tokens': 0,\n",
       "   'rejected_prediction_tokens': 0},\n",
       "  'prompt_tokens_details': {'audio_tokens': 0, 'cached_tokens': 0}},\n",
       " 'model_name': 'gpt-4.1-nano-2025-04-14',\n",
       " 'system_fingerprint': 'fp_7c233bf9d1',\n",
       " 'id': 'chatcmpl-CJsSzrVHQscHddqqb6zlExbl3MuVf',\n",
       " 'service_tier': 'default',\n",
       " 'finish_reason': 'stop',\n",
       " 'logprobs': None}"
      ]
     },
     "execution_count": 13,
     "metadata": {},
     "output_type": "execute_result"
    }
   ],
   "source": [
    "output.response_metadata"
   ]
  },
  {
   "cell_type": "code",
   "execution_count": null,
   "id": "d31e6210",
   "metadata": {},
   "outputs": [],
   "source": []
  },
  {
   "cell_type": "code",
   "execution_count": 14,
   "id": "5303021e",
   "metadata": {},
   "outputs": [],
   "source": [
    "\n",
    "message =  [('system',' You are experienced {role}. Answer all the query related to that only else say sorry'), ('human', 'this is the :{query}')]"
   ]
  },
  {
   "cell_type": "code",
   "execution_count": 18,
   "id": "2bf76684",
   "metadata": {},
   "outputs": [],
   "source": [
    "role_template = ChatPromptTemplate(message)"
   ]
  },
  {
   "cell_type": "code",
   "execution_count": 19,
   "id": "fba3df2d",
   "metadata": {},
   "outputs": [
    {
     "data": {
      "text/plain": [
       "ChatPromptTemplate(input_variables=['query', 'role'], input_types={}, partial_variables={}, messages=[SystemMessagePromptTemplate(prompt=PromptTemplate(input_variables=['role'], input_types={}, partial_variables={}, template=' You are experienced {role}. Answer all the query related to that only else say sorry'), additional_kwargs={}), HumanMessagePromptTemplate(prompt=PromptTemplate(input_variables=['query'], input_types={}, partial_variables={}, template='this is the :{query}'), additional_kwargs={})])"
      ]
     },
     "execution_count": 19,
     "metadata": {},
     "output_type": "execute_result"
    }
   ],
   "source": [
    "role_template"
   ]
  },
  {
   "cell_type": "code",
   "execution_count": 20,
   "id": "b67f9a88",
   "metadata": {},
   "outputs": [],
   "source": [
    "chain = role_template | llm"
   ]
  },
  {
   "cell_type": "code",
   "execution_count": 25,
   "id": "b438847f",
   "metadata": {},
   "outputs": [],
   "source": [
    "sys_role = \"python coding specialist\"\n",
    "user_uery =\"what is heart attack\""
   ]
  },
  {
   "cell_type": "code",
   "execution_count": 26,
   "id": "b4f2f0e8",
   "metadata": {},
   "outputs": [],
   "source": [
    "response = chain.invoke({\"role\":sys_role,\"query\":user_uery})"
   ]
  },
  {
   "cell_type": "code",
   "execution_count": 27,
   "id": "6f4a6182",
   "metadata": {},
   "outputs": [
    {
     "name": "stdout",
     "output_type": "stream",
     "text": [
      "I'm here to help with Python coding questions. If you have any Python-related inquiries, please let me know!\n"
     ]
    }
   ],
   "source": [
    "print(response.content)"
   ]
  },
  {
   "cell_type": "code",
   "execution_count": null,
   "id": "e0f38f21",
   "metadata": {},
   "outputs": [],
   "source": []
  },
  {
   "cell_type": "code",
   "execution_count": null,
   "id": "28242eb0",
   "metadata": {},
   "outputs": [],
   "source": []
  },
  {
   "cell_type": "code",
   "execution_count": null,
   "id": "0beaf5eb",
   "metadata": {},
   "outputs": [],
   "source": []
  },
  {
   "cell_type": "code",
   "execution_count": 33,
   "id": "b6cf24ac",
   "metadata": {},
   "outputs": [],
   "source": [
    "# Bad prompt: Vague and unclear\n",
    "bad_prompt = \"Tell me about dogs\"\n",
    "\n",
    "\n",
    "# Good prompt: Clear and specific\n",
    "good_prompt = \"List 5 popular dog breeds suitable for apartment living, including their size and key characteristics\"\n"
   ]
  },
  {
   "cell_type": "code",
   "execution_count": 42,
   "id": "2f7d24cf",
   "metadata": {},
   "outputs": [],
   "source": [
    "\n",
    "resp1 =llm.invoke(bad_prompt)\n",
    "resp2 = llm.invoke(good_prompt)"
   ]
  },
  {
   "cell_type": "code",
   "execution_count": 43,
   "id": "d916ddec",
   "metadata": {},
   "outputs": [
    {
     "name": "stdout",
     "output_type": "stream",
     "text": [
      "bad_prompt output \n",
      ":Certainly! Dogs, scientifically known as *Canis lupus familiaris*, are domesticated mammals that have been companions to humans for thousands of years. They belong to the Canidae family, which also includes wolves, foxes, and other canines. Dogs are renowned for their loyalty, intelligence, and ability to perform various tasks.\n",
      "\n",
      "**Key Facts About Dogs:**\n",
      "\n",
      "1. **History and Domestication:** Dogs were likely domesticated from wolves around 15,000 to 40,000 years ago, serving roles such as hunting partners, herders, defenders, and companions.\n",
      "\n",
      "2. **Physical Traits:** Dogs come in a wide variety of sizes, shapes, and coat types, ranging from tiny Chihuahuas to large Great Danes. They typically have a keen sense of smell, good hearing, and sharp eyesight.\n",
      "\n",
      "3. **Temperament and Behavior:** Dogs are known for their social nature and often form strong bonds with humans and other animals. Temperament varies widely among breeds, from energetic and playful to calm and reserved.\n",
      "\n",
      "4. **Roles and Uses:** Beyond companionship, dogs serve in many roles such as police and military work, search and rescue, guide dogs for the visually impaired, therapy animals, and even in detection of certain diseases.\n",
      "\n",
      "5. **Care and Health:** Proper care includes balanced nutrition, regular exercise, routine veterinary checkups, and training. Dogs can be susceptible to various health issues, including dental problems, obesity, and genetic conditions.\n",
      "\n",
      "6. **Lifespan:** Most dogs live around 10 to 15 years, though this can vary based on breed, size, and overall health.\n",
      "\n",
      "Dogs are beloved members of many families worldwide, appreciated for their companionship, loyalty, and remarkable diversity.\n"
     ]
    }
   ],
   "source": [
    "print(f\"bad_prompt output \\n:{resp1.content}\")"
   ]
  },
  {
   "cell_type": "code",
   "execution_count": 44,
   "id": "6d3d2825",
   "metadata": {},
   "outputs": [
    {
     "name": "stdout",
     "output_type": "stream",
     "text": [
      "good_prompt output:\n",
      " \n",
      "Certainly! Here are five popular dog breeds well-suited for apartment living, along with their size and key characteristics:\n",
      "\n",
      "1. **French Bulldog**\n",
      "   - **Size:** Small (approximately 16-28 pounds)\n",
      "   - **Key Characteristics:** Playful, adaptable, low energy, minimal grooming needs, friendly with families and other pets.\n",
      "\n",
      "2. **Cavalier King Charles Spaniel**\n",
      "   - **Size:** Small (13.2-18 pounds)\n",
      "   - **Key Characteristics:** Affectionate, gentle, sociable, moderate exercise needs, thrives in indoor environments.\n",
      "\n",
      "3. **Pug**\n",
      "   - **Size:** Small (14-18 pounds)\n",
      "   - **Key Characteristics:** Charming, sociable, moderate energy, affectionate, prone to snoring and breathing issues.\n",
      "\n",
      "4. **Dachshund**\n",
      "   - **Size:** Small to Medium (11-32 pounds, depending on type)\n",
      "   - **Key Characteristics:** Curious, lively, moderate exercise needs, adaptable to apartment living, good with families.\n",
      "\n",
      "5. **Shih Tzu**\n",
      "   - **Size:** Small (9-16 pounds)\n",
      "   - **Key Characteristics:** Friendly, affectionate, low to moderate activity levels, requires regular grooming, good with children and other pets.\n",
      "\n",
      "These breeds tend to do well in apartments due to their size, temperament, and activity requirements.\n"
     ]
    }
   ],
   "source": [
    "print(f\"good_prompt output:\\n \\n{resp2.content}\")"
   ]
  },
  {
   "cell_type": "code",
   "execution_count": 45,
   "id": "5cf25dbb",
   "metadata": {},
   "outputs": [
    {
     "data": {
      "text/plain": [
       "{'input_tokens': 24,\n",
       " 'output_tokens': 274,\n",
       " 'total_tokens': 298,\n",
       " 'input_token_details': {'audio': 0, 'cache_read': 0},\n",
       " 'output_token_details': {'audio': 0, 'reasoning': 0}}"
      ]
     },
     "execution_count": 45,
     "metadata": {},
     "output_type": "execute_result"
    }
   ],
   "source": [
    "resp2.usage_metadata"
   ]
  },
  {
   "cell_type": "code",
   "execution_count": 53,
   "id": "b2761bc0",
   "metadata": {},
   "outputs": [],
   "source": [
    "# Without context\n",
    "no_context_prompt = ChatPromptTemplate([\n",
    "    (\"human\", \"Should I invest in this stock :{stock}?\")\n",
    "])\n",
    "\n",
    "# With context\n",
    "with_context_prompt = ChatPromptTemplate([\n",
    "    (\"human\", \"\"\"I'm a 25-year-old software engineer with a stable income and 500000 to invest. \n",
    "    I have a moderate risk tolerance and a 10-year investment timeline. \n",
    "    Should I invest in {stock} stock  which is currently trading at $150 with a P/E ratio of 25?\"\"\")\n",
    "])"
   ]
  },
  {
   "cell_type": "code",
   "execution_count": 54,
   "id": "bf13dba5",
   "metadata": {},
   "outputs": [],
   "source": [
    "c1 = no_context_prompt |llm\n",
    "c2 = with_context_prompt |llm"
   ]
  },
  {
   "cell_type": "code",
   "execution_count": 49,
   "id": "9b291f82",
   "metadata": {},
   "outputs": [
    {
     "data": {
      "text/plain": [
       "ChatPromptTemplate(input_variables=['stock'], input_types={}, partial_variables={}, messages=[HumanMessagePromptTemplate(prompt=PromptTemplate(input_variables=['stock'], input_types={}, partial_variables={}, template='Should I invest in this stock :{stock}?'), additional_kwargs={})])\n",
       "| ChatOpenAI(client=<openai.resources.chat.completions.completions.Completions object at 0x763e3e27d950>, async_client=<openai.resources.chat.completions.completions.AsyncCompletions object at 0x763e3e27da90>, root_client=<openai.OpenAI object at 0x763e3e27d310>, root_async_client=<openai.AsyncOpenAI object at 0x763e3e27dbd0>, model_name='gpt-4.1-nano', model_kwargs={}, openai_api_key=SecretStr('**********'), max_tokens=400)"
      ]
     },
     "execution_count": 49,
     "metadata": {},
     "output_type": "execute_result"
    }
   ],
   "source": [
    "c1"
   ]
  },
  {
   "cell_type": "code",
   "execution_count": 55,
   "id": "80c9462e",
   "metadata": {},
   "outputs": [],
   "source": [
    "op1 = c1.invoke(\"tata motors\")\n",
    "op2 =c2.invoke({\"stock\":\"tata motors\"})"
   ]
  },
  {
   "cell_type": "code",
   "execution_count": 56,
   "id": "af8d8778",
   "metadata": {},
   "outputs": [
    {
     "name": "stdout",
     "output_type": "stream",
     "text": [
      " Incomplete context output : \n",
      "\n",
      "I'm glad you're seeking advice on investing in Tata Motors. As an AI, I can't provide personalized financial advice. However, I can suggest some factors to consider:\n",
      "\n",
      "1. **Company Performance:** Review Tata Motors' recent financial statements, revenue growth, profit margins, and market share.\n",
      "2. **Industry Trends:** Consider the automotive industry's outlook, including electric vehicle adoption, regulatory changes, and global demand.\n",
      "3. **Market Conditions:** Analyze broader economic conditions that could impact the stock, such as interest rates, inflation, and geopolitical factors.\n",
      "4. **Competitive Position:** Assess Tata Motors' position relative to competitors like Hyundai, Toyota, and others.\n",
      "5. **Long-term Goals:** Determine if investing in Tata Motors aligns with your investment objectives, risk tolerance, and time horizon.\n",
      "\n",
      "It's advisable to consult a certified financial advisor or do thorough research before making any investment decisions.\n"
     ]
    }
   ],
   "source": [
    "print(f\" Incomplete context output : \\n\\n{op1.content}\")"
   ]
  },
  {
   "cell_type": "code",
   "execution_count": 57,
   "id": "de0224cf",
   "metadata": {},
   "outputs": [
    {
     "name": "stdout",
     "output_type": "stream",
     "text": [
      " complete context: \n",
      "\n",
      "Investing in Tata Motors stock could be a viable option given your moderate risk tolerance and 10-year investment horizon. Here are some factors to consider:\n",
      "\n",
      "1. **Company Fundamentals**: Tata Motors, as a major automotive manufacturer, has a diverse portfolio including passenger cars, commercial vehicles, and electric vehicles. The current P/E ratio of 25 suggests the stock may be priced somewhat in line with industry averages, but it's important to analyze recent earnings, growth prospects, and any upcoming catalysts.\n",
      "\n",
      "2. **Market Environment**: Automobiles are cyclical and sensitive to economic conditions. Given the shift toward electric mobility and increasing demand in emerging markets, Tata Motors may have growth opportunities.\n",
      "\n",
      "3. **Valuation & Risk**: With a moderate risk appetite, consider how Tata Motors fits within your broader portfolio. Diversification across sectors and asset classes can help manage risk.\n",
      "\n",
      "4. **Research & Due Diligence**: Review recent financial reports, news, and analyst opinions. Look for factors such as profitability, debt levels, management strategy, and competitive positioning.\n",
      "\n",
      "5. **Investment Strategy**: You might consider allocating a portion of your ₹500,000 investment to Tata Motors rather than the entire amount, to maintain diversification and manage risk effectively.\n",
      "\n",
      "**Summary**: Tata Motors could be a reasonable addition to your portfolio, but it’s important to perform thorough due diligence and consider how it complements your overall investment strategy. Consulting with a financial advisor tailored to your specific circumstances can also provide personalized guidance.\n",
      "\n",
      "If you have more questions or need help with diversified investment options, feel free to ask!\n"
     ]
    }
   ],
   "source": [
    "print(f\" complete context: \\n\\n{op2.content}\")"
   ]
  },
  {
   "cell_type": "code",
   "execution_count": null,
   "id": "981e1360",
   "metadata": {},
   "outputs": [],
   "source": []
  }
 ],
 "metadata": {
  "kernelspec": {
   "display_name": "genai-25-sept",
   "language": "python",
   "name": "python3"
  },
  "language_info": {
   "codemirror_mode": {
    "name": "ipython",
    "version": 3
   },
   "file_extension": ".py",
   "mimetype": "text/x-python",
   "name": "python",
   "nbconvert_exporter": "python",
   "pygments_lexer": "ipython3",
   "version": "3.13.3"
  }
 },
 "nbformat": 4,
 "nbformat_minor": 5
}
