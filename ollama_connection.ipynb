{
 "cells": [
  {
   "cell_type": "code",
   "execution_count": 5,
   "id": "14279b7e",
   "metadata": {},
   "outputs": [
    {
     "name": "stdout",
     "output_type": "stream",
     "text": [
      "NAME                                   ID              SIZE      MODIFIED       \n",
      "llama3.2:1b                            baf6a787fdff    1.3 GB    25 seconds ago    \n",
      "qwen2.5vl:3b                           fb90415cde1e    3.2 GB    4 weeks ago       \n",
      "Jadio/Qwen3_4b_instruct_q4km:latest    7ce156643fef    2.5 GB    4 weeks ago       \n",
      "gemma3:4b                              a2af6cc3eb7f    3.3 GB    4 weeks ago       \n",
      "gemma3:270m                            e7d36fb2c3b3    291 MB    4 weeks ago       \n",
      "gemma3:1b                              8648f39daa8f    815 MB    5 weeks ago       \n",
      "qwen3:0.6b                             7df6b6e09427    522 MB    5 weeks ago       \n",
      "deepseek-r1:1.5b                       e0979632db5a    1.1 GB    2 months ago      \n",
      "qwen3:4b                               2bfd38a7daaf    2.6 GB    2 months ago      \n",
      "qwen3:8b                               500a1f067a9f    5.2 GB    2 months ago      \n",
      "gemma3n:e2b                            719372f8c7de    5.6 GB    2 months ago      \n",
      "gemma3n:e4b                            15cb39fd9394    7.5 GB    2 months ago      \n",
      "qwen3:1.7b                             458ce03a2187    1.4 GB    4 months ago      \n",
      "phi4-mini:latest                       78fad5d182a7    2.5 GB    4 months ago      \n",
      "nomic-embed-text:latest                0a109f422b47    274 MB    4 months ago      \n"
     ]
    }
   ],
   "source": [
    "!ollama list"
   ]
  },
  {
   "cell_type": "code",
   "execution_count": null,
   "id": "110da873",
   "metadata": {},
   "outputs": [],
   "source": []
  },
  {
   "cell_type": "code",
   "execution_count": 1,
   "id": "8d16ba9a",
   "metadata": {},
   "outputs": [],
   "source": [
    "from ollama import chat\n",
    "from ollama import ChatResponse"
   ]
  },
  {
   "cell_type": "code",
   "execution_count": null,
   "id": "1508a8bc",
   "metadata": {},
   "outputs": [],
   "source": []
  },
  {
   "cell_type": "code",
   "execution_count": null,
   "id": "7c147e4f",
   "metadata": {},
   "outputs": [],
   "source": []
  },
  {
   "cell_type": "code",
   "execution_count": 6,
   "id": "b6a7715d",
   "metadata": {},
   "outputs": [
    {
     "name": "stdout",
     "output_type": "stream",
     "text": [
      "The sky appears blue to us because of a phenomenon called Rayleigh scattering, named after the British physicist Lord Rayleigh. He discovered that when light travels through a gas like air, it scatters in all directions, but the shorter wavelengths (like blue and violet) are scattered more than the longer wavelengths (like red and orange).\n",
      "\n",
      "Here's what happens:\n",
      "\n",
      "1. Sunlight enters Earth's atmosphere.\n",
      "2. The sunlight encounters tiny molecules of gases like nitrogen and oxygen.\n",
      "3. These molecules scatter the light in all directions.\n",
      "4. The shorter wavelengths, like blue and violet, are scattered more than the longer wavelengths, like red and orange.\n",
      "5. This is why the sky appears blue to our eyes.\n",
      "\n",
      "The exact reason for the shade of blue we see can vary depending on atmospheric conditions, with some types of clouds or pollution potentially making the sky appear more gray or hazy.\n",
      "\n",
      "It's also worth noting that this effect is most pronounced during the daytime when the sun is overhead and the light has to travel through more of the Earth's atmosphere. At sunrise and sunset, the light has to pass through more of the atmosphere, which scatters the shorter wavelengths even more, making the sky appear red or orange.\n",
      "\n",
      "Overall, the sky appears blue because of the scattering of sunlight by tiny molecules in the air, a process that occurs when light travels through a medium like gas.\n",
      "The sky appears blue to us because of a phenomenon called Rayleigh scattering, named after the British physicist Lord Rayleigh. He discovered that when light travels through a gas like air, it scatters in all directions, but the shorter wavelengths (like blue and violet) are scattered more than the longer wavelengths (like red and orange).\n",
      "\n",
      "Here's what happens:\n",
      "\n",
      "1. Sunlight enters Earth's atmosphere.\n",
      "2. The sunlight encounters tiny molecules of gases like nitrogen and oxygen.\n",
      "3. These molecules scatter the light in all directions.\n",
      "4. The shorter wavelengths, like blue and violet, are scattered more than the longer wavelengths, like red and orange.\n",
      "5. This is why the sky appears blue to our eyes.\n",
      "\n",
      "The exact reason for the shade of blue we see can vary depending on atmospheric conditions, with some types of clouds or pollution potentially making the sky appear more gray or hazy.\n",
      "\n",
      "It's also worth noting that this effect is most pronounced during the daytime when the sun is overhead and the light has to travel through more of the Earth's atmosphere. At sunrise and sunset, the light has to pass through more of the atmosphere, which scatters the shorter wavelengths even more, making the sky appear red or orange.\n",
      "\n",
      "Overall, the sky appears blue because of the scattering of sunlight by tiny molecules in the air, a process that occurs when light travels through a medium like gas.\n"
     ]
    }
   ],
   "source": [
    "\n",
    "\n",
    "response: ChatResponse = chat(model='llama3.2:1b', messages=[\n",
    "  {\n",
    "    'role': 'user',\n",
    "    'content': 'Why is the sky blue?',\n",
    "  },\n",
    "])\n",
    "print(response['message']['content'])\n",
    "# or access fields directly from the response object\n",
    "print(response.message.content)"
   ]
  },
  {
   "cell_type": "code",
   "execution_count": null,
   "id": "1dfbb5e0",
   "metadata": {},
   "outputs": [],
   "source": []
  }
 ],
 "metadata": {
  "kernelspec": {
   "display_name": "genai-25-sept",
   "language": "python",
   "name": "python3"
  },
  "language_info": {
   "codemirror_mode": {
    "name": "ipython",
    "version": 3
   },
   "file_extension": ".py",
   "mimetype": "text/x-python",
   "name": "python",
   "nbconvert_exporter": "python",
   "pygments_lexer": "ipython3",
   "version": "3.13.3"
  }
 },
 "nbformat": 4,
 "nbformat_minor": 5
}
